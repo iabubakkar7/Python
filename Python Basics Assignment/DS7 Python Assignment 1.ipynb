{
 "cells": [
  {
   "cell_type": "markdown",
   "id": "33956be4",
   "metadata": {},
   "source": [
    "#### [Question1] \n",
    "\n",
    "a) Create a string variable called my_str containing the following sentence: Python programming is fun and powerful! <br>\n",
    "b) Find the length of my_str. <br>\n",
    "c) Replace \"fun\" in my_str with \"exciting.\" Store this back in my_str and print my_str <br>\n",
    "d) Find the index of the word powerful in my_str <br>\n",
    "e) Split the string into a list of words (google which function can help you do this). Store this in my_str_to_list and print it"
   ]
  },
  {
   "cell_type": "code",
   "execution_count": 3,
   "id": "4dfe59e8",
   "metadata": {},
   "outputs": [],
   "source": [
    "# create my_str below\n",
    "my_str = \"Python programming is fun and powerful!\"\n"
   ]
  },
  {
   "cell_type": "code",
   "execution_count": 4,
   "id": "33b969da",
   "metadata": {},
   "outputs": [
    {
     "data": {
      "text/plain": [
       "39"
      ]
     },
     "execution_count": 4,
     "metadata": {},
     "output_type": "execute_result"
    }
   ],
   "source": [
    "# find out the length of my_str. no need to store this anywhere\n",
    "len(my_str)\n"
   ]
  },
  {
   "cell_type": "code",
   "execution_count": 6,
   "id": "b45d1a3b",
   "metadata": {},
   "outputs": [
    {
     "name": "stdout",
     "output_type": "stream",
     "text": [
      "Python programming is exciting and powerful!\n"
     ]
    }
   ],
   "source": [
    "# update my_str so it has the word exciting instead of fun. print my_str at the end\n",
    "my_str = my_str.replace(\"fun\",\"exciting\")\n",
    "print(my_str)"
   ]
  },
  {
   "cell_type": "code",
   "execution_count": 7,
   "id": "4c67c03c",
   "metadata": {},
   "outputs": [
    {
     "data": {
      "text/plain": [
       "35"
      ]
     },
     "execution_count": 7,
     "metadata": {},
     "output_type": "execute_result"
    }
   ],
   "source": [
    "# find the index of the word powerful in my_str\n",
    "find_index = my_str.find(\"powerful\")\n",
    "find_index\n"
   ]
  },
  {
   "cell_type": "code",
   "execution_count": 9,
   "id": "bdfffa17",
   "metadata": {},
   "outputs": [
    {
     "name": "stdout",
     "output_type": "stream",
     "text": [
      "['Python', 'programming', 'is', 'exciting', 'and', 'powerful!']\n"
     ]
    }
   ],
   "source": [
    "# create my_str_to_list and store my_str split into a list of words in this. print my_str_to_list\n",
    "to_list = my_str.split()\n",
    "print(to_list)\n"
   ]
  },
  {
   "cell_type": "markdown",
   "id": "2235471f",
   "metadata": {},
   "source": [
    "#### [Question2]\n",
    "Given a variable called Celsius with the value 108.6, convert it to Fahrenheit. Google the formula for celcius to fahrenheit conversion. Print out Fahrenheit. "
   ]
  },
  {
   "cell_type": "code",
   "execution_count": 31,
   "id": "3364767a",
   "metadata": {},
   "outputs": [
    {
     "name": "stdout",
     "output_type": "stream",
     "text": [
      "108.6 when converted to fahrenheit = 227.48\n"
     ]
    }
   ],
   "source": [
    "Celsius = 108.6\n",
    "\n",
    "Fahrenheit =  (Celsius * 9/5) + 32 #write your conversion formula here\n",
    "\n",
    "#print out Fahrenheit below\n",
    "\n",
    "print(f\"{Celsius} when converted to fahrenheit = {Fahrenheit}\")\n",
    "\n"
   ]
  },
  {
   "cell_type": "markdown",
   "id": "f7069988",
   "metadata": {},
   "source": [
    "#### [Question3]\n",
    "\n",
    "A university wants to write a program that will help them decide the eligibility of each applicant. The conditions are: \n",
    "- all admits must be 18 or older in age\n",
    "- if their GPA is 3.0 or above, they are eligible. If their GPA is 2.8 or above, they are eligible based on a performance test. Otherwise they are not eligible. \n",
    "\n",
    "\n",
    "Given the three lists names, ages and GPA:\n",
    "\n",
    "Write a for loop that will print out the following three things in each iteration:\n",
    "\n",
    "- Student (insert name) has age (insert age) and GPA (insert GPA)\n",
    "- Eligible for admission/ Eligible for admission based on performance test/ Not eligible for admission\n",
    "- New line\n",
    "\n",
    "example:\n",
    "\n",
    "Student Hassan Ali has age 19 and GPA 3.0 <br>\n",
    "Eligible for admission"
   ]
  },
  {
   "cell_type": "code",
   "execution_count": 17,
   "id": "3bd3d902",
   "metadata": {},
   "outputs": [
    {
     "name": "stdout",
     "output_type": "stream",
     "text": [
      "Student Hassan Ali has age 19 and GPA 3.0\n",
      "Eligible for admission\n",
      "\n",
      "Student Rabbiya Sarmad has age 17 and GPA 3.9\n",
      "Not eligible for admission\n",
      "\n",
      "Student Zara Haq has age 15 and GPA 2.5\n",
      "Not eligible for admission\n",
      "\n",
      "Student Hussain Rafay has age 21 and GPA 3.1\n",
      "Eligible for admission\n",
      "\n",
      "Student Dua Hamid has age 18 and GPA 2.9\n",
      "Eligible for admission based on performance test\n",
      "\n"
     ]
    }
   ],
   "source": [
    "names = ['Hassan Ali', 'Rabbiya Sarmad', 'Zara Haq', 'Hussain Rafay', 'Dua Hamid']\n",
    "ages = [19, 17, 15, 21, 18]\n",
    "GPAs = [3.0, 3.9, 2.5, 3.1, 2.9]\n",
    "\n",
    "for i in range(len(names)):\n",
    "    name = names[i]\n",
    "    age = ages[i]\n",
    "    gpa = GPAs[i]\n",
    "    \n",
    "    print(f\"Student {name} has age {age} and GPA {gpa}\")\n",
    "    \n",
    "    if age >= 18:\n",
    "        if gpa >= 3.0:\n",
    "            print(\"Eligible for admission\")\n",
    "        elif gpa >= 2.8:\n",
    "            print(\"Eligible for admission based on performance test\")\n",
    "        else:\n",
    "            print(\"Not eligible for admission\")\n",
    "    else:\n",
    "        print(\"Not eligible for admission\")\n",
    "    \n",
    "    print()\n"
   ]
  },
  {
   "cell_type": "markdown",
   "id": "893405b9",
   "metadata": {},
   "source": [
    "#### [Question 4]\n",
    "\n",
    "Given the following list called numbers:\n",
    "\n",
    "a) Convert it into a tuple and print it. <br>\n",
    "b) Calculate the sum of this tuple. Store it in sum_numbers. print sum_numbers <br>\n",
    "c) Using slicing, fetch every odd indexed element from numbers <br>\n",
    "d) Create new **lists** called evens and odds. Using ONE for loop, add every even integer from the numbers tuple to evens and every odd number to odds. in the end, print numbers, evens and odds. <br>\n",
    "e) Would it be possible to do this if evens and odds were tuples instead of lists?"
   ]
  },
  {
   "cell_type": "code",
   "execution_count": 18,
   "id": "f0e87e0d",
   "metadata": {},
   "outputs": [
    {
     "name": "stdout",
     "output_type": "stream",
     "text": [
      "Tuple: (12, 34, 45, 67, 89, 100, 23, 56)\n"
     ]
    }
   ],
   "source": [
    "numbers =  [12, 34, 45, 67, 89, 100, 23, 56]\n",
    "\n",
    "#convert numbers into a tuple below and print numbers\n",
    "\n",
    "to_tuple = tuple(numbers)\n",
    "print(\"Tuple:\", to_tuple)\n"
   ]
  },
  {
   "cell_type": "code",
   "execution_count": 19,
   "id": "a41a80cb",
   "metadata": {},
   "outputs": [
    {
     "name": "stdout",
     "output_type": "stream",
     "text": [
      "Sum of numbers: 426\n"
     ]
    }
   ],
   "source": [
    "# create sum_numbers and store the sum of numbers in it. print sum_numbers\n",
    "\n",
    "sum_tuple = sum(to_tuple)\n",
    "print(\"Sum of numbers:\", sum_tuple)\n"
   ]
  },
  {
   "cell_type": "code",
   "execution_count": 22,
   "id": "5908766a",
   "metadata": {},
   "outputs": [
    {
     "name": "stdout",
     "output_type": "stream",
     "text": [
      "Elements at odd indexes: [34, 67, 100, 56]\n"
     ]
    }
   ],
   "source": [
    "# fetch every odd indexed element from numbers below. No need to store this anywhere, just show output\n",
    "odd_elements = numbers[1::2]\n",
    "print(\"Elements at odd indexes:\", odd_elements)\n"
   ]
  },
  {
   "cell_type": "code",
   "execution_count": 21,
   "id": "027c59f5",
   "metadata": {},
   "outputs": [
    {
     "name": "stdout",
     "output_type": "stream",
     "text": [
      "Numbers: [12, 34, 45, 67, 89, 100, 23, 56]\n",
      "Evens: [12, 34, 100, 56]\n",
      "Odds: [45, 67, 89, 23]\n"
     ]
    }
   ],
   "source": [
    "# create empty lists called evens and odds below:\n",
    "evens = []\n",
    "odds = []\n",
    "\n",
    "\n",
    "# write a single for loop to add integers from the numbers tuple to evens and odds lists below:\n",
    "\n",
    "for number in to_tuple:\n",
    "    if number % 2 == 0:\n",
    "        evens.append(number)\n",
    "    else:\n",
    "        odds.append(number)\n",
    "\n",
    "\n",
    "# print out numbers, evens and odd below\n",
    "print(\"Numbers:\", numbers)\n",
    "print(\"Evens:\", evens)\n",
    "print(\"Odds:\", odds)\n",
    "\n",
    "\n"
   ]
  },
  {
   "cell_type": "code",
   "execution_count": 23,
   "id": "4f801920",
   "metadata": {},
   "outputs": [
    {
     "name": "stdout",
     "output_type": "stream",
     "text": [
      "It would not be possible to do this if evens and odds were tuples instead of lists, because tuples are immutable.\n"
     ]
    }
   ],
   "source": [
    "# comment if the above would be possible to do if evens and odds were tuples instead of lists?\n",
    "print(\"It would not be possible to do this if evens and odds were tuples instead of lists, because tuples are immutable.\")"
   ]
  },
  {
   "cell_type": "markdown",
   "id": "57fe7528",
   "metadata": {},
   "source": [
    "#### [Question 5]\n",
    "\n",
    "a) Create a dictionary named \"capitals\" with three key-value pairs: \"USA\" - \"Washington DC\", \"France\" - \"Paris\",  and \"Japan\" - \"Tokyo\". Print the dictionary. <br>\n",
    "b) Add a new country and its capital to the \"capitals\" dictionary. The country is \"Germany\" and the capital is \"Berlin\". Print the updated dictionary. <br>\n",
    "c) Check if \"France\" exists in the \"capitals\" dictionary. If it does, print \"France is in the dictionary\" otherwise, print \"France is not in the dictionary\" (hint: you will need to use the keyword in)"
   ]
  },
  {
   "cell_type": "code",
   "execution_count": 25,
   "id": "fe365bbe",
   "metadata": {},
   "outputs": [
    {
     "name": "stdout",
     "output_type": "stream",
     "text": [
      "Dictionary of Captitals: {'USA': 'Washington DC', 'France': 'Paris', 'Japan': 'Tokyo'}\n"
     ]
    }
   ],
   "source": [
    "# create the dictionary capitals below with its key:value pairs and print it\n",
    "capitals = {\n",
    "    \"USA\": \"Washington DC\",\n",
    "    \"France\": \"Paris\",\n",
    "    \"Japan\": \"Tokyo\"\n",
    "}\n",
    "print(\"Dictionary of Captitals:\", capitals)\n",
    "\n"
   ]
  },
  {
   "cell_type": "code",
   "execution_count": 26,
   "id": "d219c2ce",
   "metadata": {},
   "outputs": [
    {
     "name": "stdout",
     "output_type": "stream",
     "text": [
      "Updated capitals dictionary: {'USA': 'Washington DC', 'France': 'Paris', 'Japan': 'Tokyo', 'Germany': 'Berlin'}\n"
     ]
    }
   ],
   "source": [
    "# add germany to capitals below and print updated dictionary\n",
    "capitals[\"Germany\"] = \"Berlin\"\n",
    "print(\"Updated capitals dictionary:\", capitals)\n"
   ]
  },
  {
   "cell_type": "code",
   "execution_count": 27,
   "id": "65940d65",
   "metadata": {},
   "outputs": [
    {
     "name": "stdout",
     "output_type": "stream",
     "text": [
      "France is in the dictionary\n"
     ]
    }
   ],
   "source": [
    "# check if france is in the dictionary and print \"France is in the dictionary\" or \"France is not in the dictionary\"\n",
    "if \"France\" in capitals:\n",
    "    print(\"France is in the dictionary\")\n",
    "else:\n",
    "    print(\"France is not in the dictionary\")\n",
    "\n"
   ]
  },
  {
   "cell_type": "code",
   "execution_count": null,
   "id": "af1f532b",
   "metadata": {},
   "outputs": [],
   "source": []
  },
  {
   "cell_type": "markdown",
   "id": "810d9906",
   "metadata": {},
   "source": [
    "#### [Question 6]\n",
    "\n",
    "The factorial of a number is as follows:\n",
    "\n",
    "factorial of 0 i.e. 0! is 1 <br>\n",
    "factorial of 1 i.e. 1! is 1 <br>\n",
    "factorial of 2 i.e. 2! is 2x1 <br>\n",
    "factorial of 3 i.e. 3! is 3x2x1 <br>\n",
    "factorial of 7 i.e. 7! is 7x6x5x4x3x2x1 <br>"
   ]
  },
  {
   "cell_type": "markdown",
   "id": "0e988127",
   "metadata": {},
   "source": [
    "Write a program using a FOR loop to find the factorial of num and print out the result at the end"
   ]
  },
  {
   "cell_type": "code",
   "execution_count": 1,
   "id": "c9cc8905",
   "metadata": {},
   "outputs": [
    {
     "name": "stdout",
     "output_type": "stream",
     "text": [
      "The factorial of 10 is 3628800\n"
     ]
    }
   ],
   "source": [
    "num = 10\n",
    "\n",
    "factorial = 1 #This variable will store the result\n",
    "\n",
    "for i in range(1, num + 1):\n",
    "    factorial *= i\n",
    "\n",
    "print(f\"The factorial of {num} is {factorial}\")\n",
    "\n",
    "\n",
    "\n"
   ]
  },
  {
   "cell_type": "markdown",
   "id": "44f66db7",
   "metadata": {},
   "source": [
    "Now rewrite the program using a WHILE loop"
   ]
  },
  {
   "cell_type": "code",
   "execution_count": 2,
   "id": "afd61d48",
   "metadata": {},
   "outputs": [
    {
     "name": "stdout",
     "output_type": "stream",
     "text": [
      "The factorial of 10 is 3628800\n"
     ]
    }
   ],
   "source": [
    "num = 10\n",
    "\n",
    "#write your while loop program below and only print out the result of num! at the end\n",
    "# Given number\n",
    "factorial = 1\n",
    "\n",
    "i = 1\n",
    "\n",
    "while i <= num:\n",
    "    factorial *= i\n",
    "    i += 1\n",
    "\n",
    "print(f\"The factorial of {num} is {factorial}\")"
   ]
  },
  {
   "cell_type": "markdown",
   "id": "1b21d24b",
   "metadata": {},
   "source": [
    "Convert either one of the above programs into a function called **factorial()** that takes in a number and returns its factorial."
   ]
  },
  {
   "cell_type": "code",
   "execution_count": 7,
   "id": "9877e5f2",
   "metadata": {},
   "outputs": [],
   "source": [
    "#write your function below\n",
    "def factorial(num):\n",
    "    if num == 0: #Important case in factorial function\n",
    "        return 1\n",
    "    result = 1\n",
    "    i = 1\n",
    "    while i <= num:\n",
    "        result *= i\n",
    "        i += 1\n",
    "\n",
    "    return result"
   ]
  },
  {
   "cell_type": "markdown",
   "id": "42a69fd4",
   "metadata": {},
   "source": [
    "Call this factorial function on the numbers 0, 1, 8 and 10 and print each result (no need to store in variables). Is your function working fine for 0! and 1! ?"
   ]
  },
  {
   "cell_type": "code",
   "execution_count": 8,
   "id": "18e1c668",
   "metadata": {},
   "outputs": [
    {
     "name": "stdout",
     "output_type": "stream",
     "text": [
      "The factorial of 0 is 1\n",
      "The factorial of 1 is 1\n",
      "The factorial of 8 is 40320\n",
      "The factorial of 10 is 3628800\n"
     ]
    }
   ],
   "source": [
    "\n",
    "print(f\"The factorial of 0 is {factorial(0)}\")\n",
    "print(f\"The factorial of 1 is {factorial(1)}\")\n",
    "print(f\"The factorial of 8 is {factorial(8)}\")\n",
    "print(f\"The factorial of 10 is {factorial(10)}\")\n",
    "\n"
   ]
  },
  {
   "cell_type": "markdown",
   "id": "933bcc06",
   "metadata": {},
   "source": [
    "Call factorial on the number 6 and store its result in a variable called factorial_6. Print factorial_6"
   ]
  },
  {
   "cell_type": "code",
   "execution_count": 9,
   "id": "5950064e",
   "metadata": {},
   "outputs": [
    {
     "name": "stdout",
     "output_type": "stream",
     "text": [
      "The factorial of 6 is 720\n"
     ]
    }
   ],
   "source": [
    "factorial_6 = factorial(6)\n",
    "print(f\"The factorial of 6 is {factorial_6}\")\n",
    "\n"
   ]
  },
  {
   "cell_type": "markdown",
   "id": "b4e4f783",
   "metadata": {},
   "source": [
    "#### [Question 7]"
   ]
  },
  {
   "cell_type": "markdown",
   "id": "b107ea28",
   "metadata": {},
   "source": [
    "Write a loop that converts the following two lists into one dictionary like so:\n",
    "{'Ten': 10, 'Twenty': 20, 'Thirty': 30, 'Forty': 40}. Print out this dictionary at the end."
   ]
  },
  {
   "cell_type": "code",
   "execution_count": 10,
   "id": "c05119c9",
   "metadata": {},
   "outputs": [
    {
     "name": "stdout",
     "output_type": "stream",
     "text": [
      "{'Ten': 10, 'Twenty': 20, 'Thirty': 30, 'Forty': 40}\n"
     ]
    }
   ],
   "source": [
    "keys = ['Ten', 'Twenty', 'Thirty', 'Forty']\n",
    "values = [10, 20, 30, 40]\n",
    "\n",
    "result_dict = {}\n",
    "\n",
    "for i in range(len(keys)):\n",
    "    result_dict[keys[i]] = values[i]\n",
    "\n",
    "print(result_dict)\n",
    "\n",
    "\n"
   ]
  },
  {
   "cell_type": "markdown",
   "id": "32ea2c82",
   "metadata": {},
   "source": [
    "Now use the code above and write a function **convert_to_dict()**, that takes in 2 lists and combines them into a dictionary and returns that dictionary. <br>\n",
    "1) **INSIDE** this function, first add a check to ensure that the two lists are of equal length. If the input lists are not of equal length, you should return an empty dictionary and print a message saying \"list lengths are not the same\". <br>\n",
    "2) set this function's defaults to empty lists. Doing this should return an empty dictionary if the function is called with no arguments. "
   ]
  },
  {
   "cell_type": "code",
   "execution_count": 12,
   "id": "8e0fd180",
   "metadata": {},
   "outputs": [],
   "source": [
    "#write your function below\n",
    "\n",
    "def convert_to_dict(keys=[], values=[]):\n",
    "    if len(keys) != len(values):\n",
    "        print(\"List lengths are not the same\")\n",
    "        return {}\n",
    "\n",
    "    result_dict = {}\n",
    "    for i in range(len(keys)):\n",
    "        result_dict[keys[i]] = values[i]\n",
    "\n",
    "    return result_dict\n"
   ]
  },
  {
   "cell_type": "markdown",
   "id": "8b3fa100",
   "metadata": {},
   "source": [
    "Call the function convert_to_dict on the two lists below, and store the resulting dictionary in a variable fruit_prices. Print fruit_prices."
   ]
  },
  {
   "cell_type": "code",
   "execution_count": 20,
   "id": "38226d44",
   "metadata": {},
   "outputs": [
    {
     "name": "stdout",
     "output_type": "stream",
     "text": [
      "{'Orange': 34, 'Tomato': 5, 'Banana': 10, 'Apple': 38}\n"
     ]
    }
   ],
   "source": [
    "lstA = ['Orange', 'Tomato', 'Banana', 'Apple']\n",
    "lstB = [34, 5, 10, 38]\n",
    "\n",
    "#call convert_to_dict on lstA and lstB and store the result in fruit_prices\n",
    "fruit_prices = convert_to_dict(lstA, lstB)\n",
    "print(fruit_prices)\n"
   ]
  },
  {
   "cell_type": "markdown",
   "id": "922c6ce9",
   "metadata": {},
   "source": [
    "Call the function convert_to_dict on the two lists below"
   ]
  },
  {
   "cell_type": "code",
   "execution_count": 21,
   "id": "697f5f44",
   "metadata": {},
   "outputs": [
    {
     "name": "stdout",
     "output_type": "stream",
     "text": [
      "List lengths are not the same\n",
      "{}\n"
     ]
    }
   ],
   "source": [
    "lstC = ['Orange', 'Tomato', 'Banana', 'Apple', 'Mango', 'Watermelon']\n",
    "lstD = [34, 5, 10, 38]\n",
    "\n",
    "#call convert_to_dict on lstC and lstD\n",
    "\n",
    "fruit_prices = convert_to_dict(lstC, lstD)\n",
    "print(fruit_prices)"
   ]
  },
  {
   "cell_type": "markdown",
   "id": "428d1681",
   "metadata": {},
   "source": [
    "Call the function convert_to_dict with no arguments"
   ]
  },
  {
   "cell_type": "code",
   "execution_count": 22,
   "id": "3a41a8cb",
   "metadata": {},
   "outputs": [
    {
     "name": "stdout",
     "output_type": "stream",
     "text": [
      "{}\n"
     ]
    }
   ],
   "source": [
    "#call convert_to_dict with no arguments\n",
    "fruit_prices = convert_to_dict()\n",
    "print(fruit_prices)\n"
   ]
  },
  {
   "cell_type": "markdown",
   "id": "adf6d191",
   "metadata": {},
   "source": [
    "Now, convert the following two lists into a single dictionary but this time, **use dictionary comprehension.** (consult your session 5 notebook). Print out the dictionary at the end."
   ]
  },
  {
   "cell_type": "code",
   "execution_count": 23,
   "id": "fc857e39",
   "metadata": {},
   "outputs": [
    {
     "name": "stdout",
     "output_type": "stream",
     "text": [
      "{'Ten': 10, 'Twenty': 20, 'Thirty': 30, 'Forty': 40}\n"
     ]
    }
   ],
   "source": [
    "keys = ['Ten', 'Twenty', 'Thirty', 'Forty']\n",
    "values = [10, 20, 30, 40]\n",
    "\n",
    "dictionary = {keys[i]: values[i] for i in range(len(keys))}\n",
    "\n",
    "print(dictionary)\n"
   ]
  },
  {
   "cell_type": "markdown",
   "id": "fd35dd87",
   "metadata": {},
   "source": [
    "#### [QUESTION 8]\n",
    "\n",
    "Here is a while loop number guessing game. Change the code according to the following:\n",
    "\n",
    "1) Set an answer <br>\n",
    "2) Give the user **five** guesses <br>\n",
    "3) First msg should read \"Please enter your first guess: \" <br>\n",
    "4) At each guess, tell the user if their guess is too high or too low. your msg should read \"too high! try again: \" or \"too low! try again: \". <br>\n",
    "5) However, if the difference between the guess and answer is 3 points or less in either direction, your msg should read \"very close! go higher: \" or \"very close! go lower: \". <br>\n",
    "6) If the player loses, show \"Sorry, you lost! The answer was __\" <br>\n",
    "7) If the player wins, show \"Congratulations! You guessed it!\"\n",
    "\n",
    "\n",
    "(play it with different values of answer to test it)"
   ]
  },
  {
   "cell_type": "code",
   "execution_count": 26,
   "id": "c97c3e0a",
   "metadata": {},
   "outputs": [
    {
     "name": "stdout",
     "output_type": "stream",
     "text": [
      "Please enter your first guess: 20\n",
      "Too low! Try again: 49\n",
      "Very close! Go higher: 55\n",
      "Too high! Try again: 50\n",
      "Congratulations! You guessed it!\n"
     ]
    }
   ],
   "source": [
    "answer = 50\n",
    "guesses = 5\n",
    "\n",
    "user_input = int(input(\"Please enter your first guess: \"))\n",
    "\n",
    "while user_input != answer:\n",
    "    guesses -= 1\n",
    "    \n",
    "    if guesses == 0:\n",
    "        print(f\"Sorry, you lost! The answer was {answer}\")\n",
    "        break\n",
    "    \n",
    "    # Calculate the difference between the guess and the answer\n",
    "    difference = abs(user_input - answer)\n",
    "    \n",
    "    if difference <= 3:\n",
    "        if user_input < answer:\n",
    "            user_input = int(input(\"Very close! Go higher: \"))\n",
    "        else:\n",
    "            user_input = int(input(\"Very close! Go lower: \"))\n",
    "    else:\n",
    "        if user_input < answer:\n",
    "            user_input = int(input(\"Too low! Try again: \"))\n",
    "        else:\n",
    "            user_input = int(input(\"Too high! Try again: \"))\n",
    "else:\n",
    "    print(\"Congratulations! You guessed it!\")\n"
   ]
  },
  {
   "cell_type": "markdown",
   "id": "e922841f",
   "metadata": {},
   "source": [
    "#### [QUESTION 9]\n",
    "\n",
    "Design a function called **case_check()**. this function should take a string as an input and return a dictionary giving the count of uppercase and lowercase letters in the string. for example:\n",
    "\n",
    "case_check(\"I aM goInG OuT!\") should return {'Upper': 6, 'Lower': 5}\n"
   ]
  },
  {
   "cell_type": "code",
   "execution_count": 27,
   "id": "90b45848",
   "metadata": {},
   "outputs": [
    {
     "name": "stdout",
     "output_type": "stream",
     "text": [
      "{'Upper': 6, 'Lower': 5}\n"
     ]
    }
   ],
   "source": [
    "#write your function below\n",
    "def case_check(input_string):\n",
    "    upper_count = 0\n",
    "    lower_count = 0\n",
    "    \n",
    "    for char in input_string:\n",
    "        if char.isupper():\n",
    "            upper_count += 1\n",
    "        elif char.islower():\n",
    "            lower_count += 1\n",
    "    \n",
    "    result = {\n",
    "        'Upper': upper_count,\n",
    "        'Lower': lower_count\n",
    "    }\n",
    "    \n",
    "    return result\n",
    "\n",
    "result = case_check(\"I aM goInG OuT!\")\n",
    "print(result) \n",
    "\n"
   ]
  },
  {
   "cell_type": "markdown",
   "id": "3c01612e",
   "metadata": {},
   "source": [
    "Test case_check on the following strings and print out the result of each string. No need to store in variables. "
   ]
  },
  {
   "cell_type": "code",
   "execution_count": 28,
   "id": "5f89ccd0",
   "metadata": {},
   "outputs": [
    {
     "name": "stdout",
     "output_type": "stream",
     "text": [
      "{'Upper': 9, 'Lower': 9}\n",
      "{'Upper': 3, 'Lower': 2}\n",
      "{'Upper': 9, 'Lower': 12}\n"
     ]
    }
   ],
   "source": [
    "string1 = 'tHIs IS a PytHoN cLAss!'\n",
    "string2 = 'Ab%4DcP432'\n",
    "string3 = 'HellO! WhAt cAn I do FoR yOu?'\n",
    "\n",
    "\n",
    "#below, call case_check on each of the above strings\n",
    "\n",
    "result1 = case_check(\"tHIs IS a PytHoN cLAss!\")\n",
    "print(result1) \n",
    "result2 = case_check(\"Ab%4DcP432\")\n",
    "print(result2) \n",
    "result3 = case_check(\"HellO! WhAt cAn I do FoR yOu?\")\n",
    "print(result3) \n"
   ]
  },
  {
   "cell_type": "markdown",
   "id": "86072b01",
   "metadata": {},
   "source": [
    "#### [QUESTION 10]\n",
    "\n",
    "Design a function called **square()** that takes in any number of integers as arguments and **prints** out the square of each argument. You should be able to flexibly give this function any number of arguments. for example\n",
    "\n",
    "square(1,7,-4,2) should print the following:\n",
    "\n",
    "square of 1 is 1 <br>\n",
    "square of 7 is 49 <br>\n",
    "square of -4 is 16 <br>\n",
    "square of 2 is 4 <br>"
   ]
  },
  {
   "cell_type": "code",
   "execution_count": 29,
   "id": "b3d2f9d0",
   "metadata": {},
   "outputs": [
    {
     "name": "stdout",
     "output_type": "stream",
     "text": [
      "Square of 1 is 1\n",
      "Square of 7 is 49\n",
      "Square of -4 is 16\n",
      "Square of 2 is 4\n"
     ]
    }
   ],
   "source": [
    "#write your function below\n",
    "def square(*args):\n",
    "    for num in args:\n",
    "        print(f\"Square of {num} is {num ** 2}\")\n",
    "\n",
    "square(1, 7, -4, 2)\n",
    "\n",
    "             "
   ]
  },
  {
   "cell_type": "markdown",
   "id": "7fdafa37",
   "metadata": {},
   "source": [
    "Test your function with the following calls:"
   ]
  },
  {
   "cell_type": "code",
   "execution_count": 30,
   "id": "4c58f7ba",
   "metadata": {},
   "outputs": [
    {
     "name": "stdout",
     "output_type": "stream",
     "text": [
      "Square of 1 is 1\n",
      "Square of 7 is 49\n",
      "Square of -4 is 16\n",
      "Square of 2 is 4\n",
      "\n",
      "\n",
      "Square of 10 is 100\n",
      "Square of -9 is 81\n",
      "Square of 0 is 0\n",
      "\n",
      "\n",
      "Square of 2 is 4\n",
      "Square of 3 is 9\n",
      "\n",
      "\n",
      "\n",
      "\n"
     ]
    }
   ],
   "source": [
    "square(1, 7, -4, 2)\n",
    "print(\"\\n\")\n",
    "\n",
    "square(10, -9, 0)\n",
    "print(\"\\n\")\n",
    "\n",
    "square(2,3)\n",
    "print(\"\\n\")\n",
    "\n",
    "square()\n",
    "print(\"\\n\")\n"
   ]
  },
  {
   "cell_type": "markdown",
   "id": "ae02c11f",
   "metadata": {},
   "source": [
    "#### [Question 11]\n",
    "\n",
    "Using a lambda function with map, return a list that contains areas of circles with the following radii (use 3.14 for pi). Print out the areas list. \n",
    "\n",
    "Remember: you will need to give map a lambda function and a list to apply the lambda function to. Also, to get a list instead of a map object, you need to put map inside the list function.\n",
    "\n",
    "list(map(**your lambda function**, **your list**))"
   ]
  },
  {
   "cell_type": "code",
   "execution_count": 11,
   "id": "cd6bdb53",
   "metadata": {},
   "outputs": [
    {
     "name": "stdout",
     "output_type": "stream",
     "text": [
      "[28.26, 78.5, 113.04, 314.0]\n"
     ]
    }
   ],
   "source": [
    "radii = [3, 5, 6, 10]\n",
    "\n",
    "areas =list(map(lambda r: 3.14 * r ** 2, radii))\n",
    "\n",
    "#print out areas below\n",
    "print(areas)"
   ]
  },
  {
   "cell_type": "code",
   "execution_count": null,
   "id": "636f4c54",
   "metadata": {},
   "outputs": [],
   "source": []
  }
 ],
 "metadata": {
  "kernelspec": {
   "display_name": "Python 3 (ipykernel)",
   "language": "python",
   "name": "python3"
  },
  "language_info": {
   "codemirror_mode": {
    "name": "ipython",
    "version": 3
   },
   "file_extension": ".py",
   "mimetype": "text/x-python",
   "name": "python",
   "nbconvert_exporter": "python",
   "pygments_lexer": "ipython3",
   "version": "3.11.4"
  }
 },
 "nbformat": 4,
 "nbformat_minor": 5
}
